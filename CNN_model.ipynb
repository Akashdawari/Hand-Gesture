{
 "cells": [
  {
   "cell_type": "code",
   "execution_count": 1,
   "metadata": {},
   "outputs": [],
   "source": [
    "import tensorflow as tf\n",
    "from tensorflow import keras\n",
    "from tensorflow.keras.preprocessing.image import ImageDataGenerator"
   ]
  },
  {
   "cell_type": "code",
   "execution_count": 3,
   "metadata": {},
   "outputs": [
    {
     "name": "stdout",
     "output_type": "stream",
     "text": [
      "Found 900 images belonging to 6 classes.\n",
      "Found 180 images belonging to 6 classes.\n",
      "Epoch 1/10\n",
      "128/128 [==============================] - 12s 97ms/step - loss: 1.2767 - val_loss: 0.5739\n",
      "Epoch 2/10\n",
      "128/128 [==============================] - 12s 98ms/step - loss: 0.3629 - val_loss: 0.2522\n",
      "Epoch 3/10\n",
      "128/128 [==============================] - 12s 97ms/step - loss: 0.2660 - val_loss: 0.5517\n",
      "Epoch 4/10\n",
      "128/128 [==============================] - 12s 91ms/step - loss: 0.1374 - val_loss: 0.4231\n",
      "Epoch 5/10\n",
      "128/128 [==============================] - 12s 91ms/step - loss: 0.1197 - val_loss: 1.1543\n",
      "Epoch 6/10\n",
      "128/128 [==============================] - 12s 92ms/step - loss: 0.0985 - val_loss: 0.4926\n",
      "Epoch 7/10\n",
      "128/128 [==============================] - 12s 95ms/step - loss: 0.0594 - val_loss: 0.4461\n",
      "Epoch 8/10\n",
      "128/128 [==============================] - 12s 90ms/step - loss: 0.0890 - val_loss: 0.7179\n",
      "Epoch 9/10\n",
      "128/128 [==============================] - 13s 104ms/step - loss: 0.0477 - val_loss: 0.3701\n",
      "Epoch 10/10\n",
      "128/128 [==============================] - 12s 96ms/step - loss: 0.0450 - val_loss: 0.5334\n"
     ]
    },
    {
     "data": {
      "text/plain": [
       "<tensorflow.python.keras.callbacks.History at 0x2e610f2cf98>"
      ]
     },
     "execution_count": 3,
     "metadata": {},
     "output_type": "execute_result"
    }
   ],
   "source": [
    "# Model (conv*2, maxpool*2, dense*2)\n",
    "\n",
    "model = keras.models.Sequential([\n",
    "        keras.layers.Conv2D(34, 3, activation=\"relu\",input_shape=[68, 68, 1]),  #68*68\n",
    "        keras.layers.MaxPooling2D(2),\n",
    "        keras.layers.Conv2D(34, 3, activation=\"relu\"),   #34*34\n",
    "        keras.layers.MaxPooling2D(2),\n",
    "        keras.layers.Flatten(),        #17*17\n",
    "        keras.layers.Dense(128, activation=\"relu\"),\n",
    "        keras.layers.Dropout(0.5),\n",
    "        keras.layers.Dense(6, activation=\"softmax\")])\n",
    "\n",
    "\n",
    "# compile the above model\n",
    "model.compile(optimizer=\"adam\", loss=\"categorical_crossentropy\",\n",
    "              matrics=[\"accuracy\"])\n",
    "\n",
    "# Loading and processing the images\n",
    "train_datagen = ImageDataGenerator(rescale=1/255,\n",
    "                                   shear_range=0.2,\n",
    "                                   zoom_range=0.2,\n",
    "                                   horizontal_flip=True)\n",
    "test_datagen = ImageDataGenerator(rescale=1/255)\n",
    "\n",
    "train_set = train_datagen.flow_from_directory(\"data/train\",\n",
    "                                              target_size=(68, 68),\n",
    "                                              batch_size=5,\n",
    "                                              color_mode=\"grayscale\",\n",
    "                                              class_mode=\"categorical\")\n",
    "\n",
    "test_set = test_datagen.flow_from_directory(\"data/test\",\n",
    "                                              target_size=(68, 68),\n",
    "                                              batch_size=5,\n",
    "                                              color_mode=\"grayscale\",\n",
    "                                              class_mode=\"categorical\")\n",
    "\n",
    "\n",
    "\n",
    "model.fit_generator(train_set,\n",
    "                         steps_per_epoch=128,\n",
    "                         epochs=10,\n",
    "                         validation_data=test_set,\n",
    "                         validation_steps=30)\n",
    "\n"
   ]
  },
  {
   "cell_type": "code",
   "execution_count": 4,
   "metadata": {},
   "outputs": [],
   "source": [
    "model_json = model.to_json()\n",
    "with open(\"model_bw.json\", \"w\") as json_file:\n",
    "    json_file.write(model_json)\n",
    "model.save_weights(\"Save_file.h5\")"
   ]
  },
  {
   "cell_type": "code",
   "execution_count": null,
   "metadata": {},
   "outputs": [],
   "source": []
  }
 ],
 "metadata": {
  "kernelspec": {
   "display_name": "Python 3",
   "language": "python",
   "name": "python3"
  },
  "language_info": {
   "codemirror_mode": {
    "name": "ipython",
    "version": 3
   },
   "file_extension": ".py",
   "mimetype": "text/x-python",
   "name": "python",
   "nbconvert_exporter": "python",
   "pygments_lexer": "ipython3",
   "version": "3.6.8"
  }
 },
 "nbformat": 4,
 "nbformat_minor": 2
}
